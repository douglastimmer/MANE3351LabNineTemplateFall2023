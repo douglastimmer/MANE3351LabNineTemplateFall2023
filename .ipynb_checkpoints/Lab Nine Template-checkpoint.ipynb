{
 "cells": [
  {
   "cell_type": "markdown",
   "id": "8fa13afe",
   "metadata": {},
   "source": [
    "# MANE 3351\n",
    "## Laboratory Nine\n",
    "### Your Name"
   ]
  },
  {
   "cell_type": "markdown",
   "id": "ae8d1482",
   "metadata": {},
   "source": [
    "## Description of numerical integration techniques used in cell three."
   ]
  },
  {
   "cell_type": "code",
   "execution_count": null,
   "id": "540bb8e3",
   "metadata": {},
   "outputs": [],
   "source": [
    "# Cell 3"
   ]
  }
 ],
 "metadata": {
  "kernelspec": {
   "display_name": "Python 3 (ipykernel)",
   "language": "python",
   "name": "python3"
  },
  "language_info": {
   "codemirror_mode": {
    "name": "ipython",
    "version": 3
   },
   "file_extension": ".py",
   "mimetype": "text/x-python",
   "name": "python",
   "nbconvert_exporter": "python",
   "pygments_lexer": "ipython3",
   "version": "3.10.12"
  }
 },
 "nbformat": 4,
 "nbformat_minor": 5
}
